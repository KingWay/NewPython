{
 "cells": [
  {
   "cell_type": "code",
   "execution_count": 32,
   "metadata": {},
   "outputs": [
    {
     "name": "stdout",
     "output_type": "stream",
     "text": [
      "================Python import mode==========================\n",
      "命令行参数为:\n",
      "/Users/apple/anaconda3/lib/python3.7/site-packages/ipykernel_launcher.py\n",
      "-f\n",
      "/Users/apple/Library/Jupyter/runtime/kernel-016a0194-86a7-4de3-9651-5afc07ff6154.json\n",
      "\n",
      " python 路径为 ['/Users/apple', '/Users/apple/anaconda3/lib/python37.zip', '/Users/apple/anaconda3/lib/python3.7', '/Users/apple/anaconda3/lib/python3.7/lib-dynload', '', '/Users/apple/anaconda3/lib/python3.7/site-packages', '/Users/apple/anaconda3/lib/python3.7/site-packages/aeosa', '/Users/apple/anaconda3/lib/python3.7/site-packages/IPython/extensions', '/Users/apple/.ipython']\n"
     ]
    }
   ],
   "source": [
    "import sys\n",
    "print('================Python import mode==========================');\n",
    "print ('命令行参数为:')\n",
    "for i in sys.argv:\n",
    "    print (i)\n",
    "print ('\\n python 路径为',sys.path)"
   ]
  },
  {
   "cell_type": "code",
   "execution_count": 33,
   "metadata": {},
   "outputs": [
    {
     "name": "stdout",
     "output_type": "stream",
     "text": [
      "================python from import===================================\n",
      "path: ['/Users/apple', '/Users/apple/anaconda3/lib/python37.zip', '/Users/apple/anaconda3/lib/python3.7', '/Users/apple/anaconda3/lib/python3.7/lib-dynload', '', '/Users/apple/anaconda3/lib/python3.7/site-packages', '/Users/apple/anaconda3/lib/python3.7/site-packages/aeosa', '/Users/apple/anaconda3/lib/python3.7/site-packages/IPython/extensions', '/Users/apple/.ipython']\n"
     ]
    }
   ],
   "source": [
    "from sys import argv,path  #  导入特定的成员\n",
    " \n",
    "print('================python from import===================================')\n",
    "print('path:',path) # 因为已经导入path成员，所以此处引用时不需要加sys.path"
   ]
  },
  {
   "cell_type": "code",
   "execution_count": 8,
   "metadata": {},
   "outputs": [
    {
     "data": {
      "text/plain": [
       "[0, 1, 4, 9, 16, 25, 36, 49, 64, 81]"
      ]
     },
     "execution_count": 8,
     "metadata": {},
     "output_type": "execute_result"
    }
   ],
   "source": [
    "[x*x for x in range(10)]"
   ]
  },
  {
   "cell_type": "code",
   "execution_count": 37,
   "metadata": {},
   "outputs": [
    {
     "name": "stdout",
     "output_type": "stream",
     "text": [
      "27\n"
     ]
    }
   ],
   "source": [
    "var1=3\n",
    "var2=4\n",
    "var3=var1+var2\n",
    "var4=3**3\n",
    "print(var4)"
   ]
  },
  {
   "cell_type": "code",
   "execution_count": 45,
   "metadata": {},
   "outputs": [
    {
     "name": "stdout",
     "output_type": "stream",
     "text": [
      "['/Users/apple/anaconda3/lib/python3.7/site-packages/ipykernel_launcher.py', '-f', '/Users/apple/Library/Jupyter/runtime/kernel-016a0194-86a7-4de3-9651-5afc07ff6154.json']\n"
     ]
    }
   ],
   "source": [
    "from sys import *\n",
    "print(argv)"
   ]
  },
  {
   "cell_type": "code",
   "execution_count": null,
   "metadata": {},
   "outputs": [],
   "source": []
  }
 ],
 "metadata": {
  "kernelspec": {
   "display_name": "Python 3",
   "language": "python",
   "name": "python3"
  },
  "language_info": {
   "codemirror_mode": {
    "name": "ipython",
    "version": 3
   },
   "file_extension": ".py",
   "mimetype": "text/x-python",
   "name": "python",
   "nbconvert_exporter": "python",
   "pygments_lexer": "ipython3",
   "version": "3.7.1"
  }
 },
 "nbformat": 4,
 "nbformat_minor": 2
}
